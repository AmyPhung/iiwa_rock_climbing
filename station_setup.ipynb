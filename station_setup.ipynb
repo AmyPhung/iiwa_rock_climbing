{
 "cells": [
  {
   "cell_type": "code",
   "execution_count": 30,
   "id": "d486d5e8-77bc-4754-9adf-4c5c009a5fb6",
   "metadata": {},
   "outputs": [],
   "source": [
    "import pydot\n",
    "import numpy as np\n",
    "from IPython.display import display, Javascript, SVG\n",
    "from pydrake.examples.manipulation_station import ManipulationStation\n",
    "from manipulation.scenarios import (\n",
    "    AddIiwa, AddShape\n",
    ")\n",
    "from manipulation.meshcat_cpp_utils import (\n",
    "    StartMeshcat\n",
    ")\n",
    "from pydrake.all import (\n",
    "    AddMultibodyPlantSceneGraph, DiagramBuilder, MeshcatVisualizerCpp, MeshcatVisualizerParams, Parser, \n",
    "    RollPitchYaw, RigidTransform, RevoluteJoint, Sphere, Simulator, InverseDynamicsController, MultibodyPlant\n",
    ")\n",
    "import pydrake.all"
   ]
  },
  {
   "cell_type": "code",
   "execution_count": 31,
   "id": "2368959a-ad85-46b3-9da2-15189cba9bec",
   "metadata": {},
   "outputs": [
    {
     "data": {
      "text/html": [
       "Meshcat is now available at <a href=\"http://localhost:7000\">http://localhost:7000</a>"
      ],
      "text/plain": [
       "<IPython.core.display.HTML object>"
      ]
     },
     "metadata": {},
     "output_type": "display_data"
    }
   ],
   "source": [
    "meshcat = StartMeshcat()"
   ]
  },
  {
   "cell_type": "code",
   "execution_count": 33,
   "id": "0256645b-4593-447c-b4d8-609d77984cdb",
   "metadata": {},
   "outputs": [],
   "source": [
    "def AddFloatingIiwa(plant, collision_model=\"no_collision\"):\n",
    "    sdf_path = \"iiwa_rock_climbing/models/iiwa_description/iiwa7/\" + \\\n",
    "        f\"iiwa7_{collision_model}.sdf\"\n",
    "\n",
    "    parser = Parser(plant)\n",
    "    iiwa = parser.AddModelFromFile(sdf_path)\n",
    "    \n",
    "    # Set default positions:\n",
    "    q0 = [0.0, 0.1, 0, -1.2, 0, 1.6, 0]\n",
    "    index = 0\n",
    "    for joint_index in plant.GetJointIndices(iiwa):       \n",
    "        joint = plant.get_mutable_joint(joint_index)\n",
    "        if isinstance(joint, RevoluteJoint):\n",
    "            joint.set_default_angle(q0[index])\n",
    "            index += 1\n",
    "        \n",
    "    return iiwa\n",
    "\n",
    "def AddFloatingBase(plant, iiwa):\n",
    "    base = AddShape(plant, pydrake.geometry.Box(1,1,1), \"mobile_base\")\n",
    "    plant.WeldFrames(plant.GetFrameByName(\"mobile_base\"), plant.GetFrameByName(\"iiwa_link_0\"))\n",
    "    # TODO: Add offset\n",
    "    # plant.WeldFrames(\n",
    "    #     plant.GetFrameByName(\"iiwa_link_7\"), \n",
    "    #     plant.GetFrameByName(\"base_link\"), \n",
    "    #     RigidTransform(RollPitchYaw(0, -np.pi/2, 0), [0, 0, 0.25]))\n",
    "    return base"
   ]
  },
  {
   "cell_type": "code",
   "execution_count": 43,
   "id": "3172da38-8843-4c46-85ea-561cfc0f2706",
   "metadata": {},
   "outputs": [],
   "source": [
    "builder = DiagramBuilder()\n",
    "plant, scene_graph = AddMultibodyPlantSceneGraph(builder, time_step=0.001)\n",
    "\n",
    "iiwa = AddFloatingIiwa(plant)\n",
    "base = AddFloatingBase(plant, iiwa)\n",
    "parser = Parser(plant)\n",
    "\n",
    "# ball = parser.AddModelFromFile(\"models/ball.sdf\")\n",
    "# floor = parser.AddModelFromFile(\"models/floor.sdf\")\n",
    "# paddle = parser.AddModelFromFile(\"models/paddle.sdf\")\n",
    "# plant.WeldFrames(\n",
    "#     plant.GetFrameByName(\"iiwa_link_7\"), \n",
    "#     plant.GetFrameByName(\"base_link\"), \n",
    "#     RigidTransform(RollPitchYaw(0, -np.pi/2, 0), [0, 0, 0.25]))\n",
    "\n",
    "plant.gravity_field().set_gravity_vector([0., 0., -0.1])    \n",
    "\n",
    "plant.Finalize()\n",
    "\n",
    "visualizer = MeshcatVisualizerCpp.AddToBuilder(\n",
    "    builder, \n",
    "    scene_graph, \n",
    "    meshcat,\n",
    "    MeshcatVisualizerParams(delete_prefix_initialization_event=False))"
   ]
  },
  {
   "cell_type": "code",
   "execution_count": 44,
   "id": "80ef975a-5c29-419f-a851-614948ff13b0",
   "metadata": {},
   "outputs": [],
   "source": [
    "controller_plant = MultibodyPlant(time_step = 1e-2)\n",
    "controller_iiwa = AddIiwa(controller_plant)\n",
    "controller_parser = Parser(controller_plant)\n",
    "# controller_parser.AddModelFromFile(\"models/paddle.sdf\")\n",
    "# controller_plant.WeldFrames(\n",
    "#     controller_plant.GetFrameByName(\"iiwa_link_7\"),\n",
    "#     controller_plant.GetFrameByName(\"base_link\"),\n",
    "#     RigidTransform(RollPitchYaw(0, -np.pi/2, 0), [0, 0, 0.25]))\n",
    "controller_plant.Finalize()\n",
    "\n",
    "Kp = np.full(7, 100)\n",
    "Ki = 2 * np.sqrt(Kp)\n",
    "Kd = np.full(7, 1)\n",
    "iiwa_controller = builder.AddSystem(InverseDynamicsController(controller_plant, Kp, Ki, Kd, False))\n",
    "iiwa_controller.set_name(\"iiwa_controller\");\n",
    "builder.Connect(plant.get_state_output_port(iiwa),\n",
    "                iiwa_controller.get_input_port_estimated_state())\n",
    "builder.Connect(iiwa_controller.get_output_port_control(),\n",
    "                plant.get_actuation_input_port())"
   ]
  },
  {
   "cell_type": "code",
   "execution_count": 45,
   "id": "c89bb3e2-d4c7-4e56-862b-0bcb3547dff6",
   "metadata": {},
   "outputs": [],
   "source": [
    "diagram = builder.Build()\n",
    "context = diagram.CreateDefaultContext()\n",
    "diagram.Publish(context)"
   ]
  },
  {
   "cell_type": "code",
   "execution_count": 46,
   "id": "0fb64722-2dc7-46d4-9544-96fd1ae510b5",
   "metadata": {},
   "outputs": [
    {
     "data": {
      "text/plain": [
       "<pydrake.systems.framework.FixedInputPortValue at 0x7f3680fe07f0>"
      ]
     },
     "execution_count": 46,
     "metadata": {},
     "output_type": "execute_result"
    }
   ],
   "source": [
    "q0 = np.array([-1.57, 0.1, 0, -1.2, 0, 1.6, 0])\n",
    "x0 = np.hstack((q0, 0*q0))\n",
    "\n",
    "plant_context = plant.GetMyMutableContextFromRoot(context)\n",
    "\n",
    "plant.SetPositions(plant_context, iiwa, q0)\n",
    "# plant.SetPositions(plant_context, ball, np.array([1, 1, 1, 1, 1, 0, 5]))\n",
    "iiwa_controller.GetInputPort('desired_state').FixValue(iiwa_controller.GetMyMutableContextFromRoot(context), x0)"
   ]
  },
  {
   "cell_type": "code",
   "execution_count": 47,
   "id": "fbc14ba1-b503-4792-856a-85d4d67fa7fb",
   "metadata": {},
   "outputs": [
    {
     "data": {
      "text/plain": [
       "<pydrake.systems.analysis.SimulatorStatus at 0x7f365f9756b0>"
      ]
     },
     "execution_count": 47,
     "metadata": {},
     "output_type": "execute_result"
    }
   ],
   "source": [
    "simulator = Simulator(diagram, context)\n",
    "simulator.set_target_realtime_rate(0.25)\n",
    "simulator.AdvanceTo(1.0)"
   ]
  },
  {
   "cell_type": "code",
   "execution_count": null,
   "id": "9b479976-12b7-4caf-aab8-7154fcb398e8",
   "metadata": {},
   "outputs": [],
   "source": []
  }
 ],
 "metadata": {
  "kernelspec": {
   "display_name": "Python 3 (ipykernel)",
   "language": "python",
   "name": "python3"
  },
  "language_info": {
   "codemirror_mode": {
    "name": "ipython",
    "version": 3
   },
   "file_extension": ".py",
   "mimetype": "text/x-python",
   "name": "python",
   "nbconvert_exporter": "python",
   "pygments_lexer": "ipython3",
   "version": "3.8.10"
  }
 },
 "nbformat": 4,
 "nbformat_minor": 5
}
