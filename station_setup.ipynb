{
 "cells": [
  {
   "cell_type": "code",
   "execution_count": 1,
   "id": "d486d5e8-77bc-4754-9adf-4c5c009a5fb6",
   "metadata": {},
   "outputs": [],
   "source": [
    "import pydot\n",
    "import numpy as np\n",
    "from IPython.display import display, Javascript, SVG\n",
    "from pydrake.examples.manipulation_station import ManipulationStation\n",
    "from manipulation.scenarios import (\n",
    "    AddIiwa, AddShape\n",
    ")\n",
    "from manipulation.meshcat_cpp_utils import (\n",
    "    StartMeshcat, AddMeshcatTriad\n",
    ")\n",
    "from pydrake.all import (\n",
    "    AddMultibodyPlantSceneGraph, DiagramBuilder, MeshcatVisualizerCpp, MeshcatVisualizerParams, Parser, \n",
    "    RollPitchYaw, RigidTransform, RevoluteJoint, Sphere, Simulator, InverseDynamicsController, MultibodyPlant\n",
    ")\n",
    "import pydrake.all"
   ]
  },
  {
   "cell_type": "code",
   "execution_count": 2,
   "id": "2368959a-ad85-46b3-9da2-15189cba9bec",
   "metadata": {},
   "outputs": [
    {
     "data": {
      "text/html": [
       "Meshcat is now available at <a href=\"http://localhost:7000\">http://localhost:7000</a>"
      ],
      "text/plain": [
       "<IPython.core.display.HTML object>"
      ]
     },
     "metadata": {},
     "output_type": "display_data"
    }
   ],
   "source": [
    "meshcat = StartMeshcat()"
   ]
  },
  {
   "cell_type": "code",
   "execution_count": 3,
   "id": "0256645b-4593-447c-b4d8-609d77984cdb",
   "metadata": {},
   "outputs": [],
   "source": [
    "def AddFloatingIiwa(plant, collision_model=\"no_collision\"):\n",
    "    sdf_path = \"iiwa_rock_climbing/models/iiwa_description/iiwa7/\" + \\\n",
    "        f\"iiwa7_{collision_model}.sdf\"\n",
    "\n",
    "    parser = Parser(plant)\n",
    "    iiwa = parser.AddModelFromFile(sdf_path)\n",
    "    \n",
    "    # Set default positions:\n",
    "    q0 = [0.0, 0.1, 0, -1.2, 0, 1.6, 0]\n",
    "    index = 0\n",
    "    for joint_index in plant.GetJointIndices(iiwa):       \n",
    "        joint = plant.get_mutable_joint(joint_index)\n",
    "        if isinstance(joint, RevoluteJoint):\n",
    "            joint.set_default_angle(q0[index])\n",
    "            index += 1\n",
    "        \n",
    "    return iiwa\n",
    "\n",
    "def AddFloatingBase(plant, iiwa):\n",
    "    base = AddShape(plant, pydrake.geometry.Box(0.2,0.2,0.2), \"mobile_base\", \n",
    "                    mass=0.1, mu=1, color=[.5, .5, .9, 1.0])\n",
    "    plant.WeldFrames(plant.GetFrameByName(\"mobile_base\"), \n",
    "                     plant.GetFrameByName(\"iiwa_link_0\"),\n",
    "                     RigidTransform(RollPitchYaw(0, 0, 0), [0, 0, 0.1]))\n",
    "    return base"
   ]
  },
  {
   "cell_type": "code",
   "execution_count": 19,
   "id": "3172da38-8843-4c46-85ea-561cfc0f2706",
   "metadata": {},
   "outputs": [],
   "source": [
    "class IIWA_Climber():\n",
    "    def __init__(self):\n",
    "        builder = DiagramBuilder()\n",
    "        \n",
    "        self.plant, scene_graph = AddMultibodyPlantSceneGraph(builder, time_step=0.001)\n",
    "\n",
    "        self.iiwa = AddFloatingIiwa(self.plant)\n",
    "        base = AddFloatingBase(self.plant, self.iiwa)\n",
    "        parser = Parser(self.plant)\n",
    "\n",
    "        # gripper = parser.AddModelFromFile(\"models/gripper.sdf\")\n",
    "        # rock = parser.AddModelFromFile(\"models/rock.sdf\")\n",
    "        # plant.WeldFrames(\n",
    "        #     plant.GetFrameByName(\"iiwa_link_7\"), \n",
    "        #     plant.GetFrameByName(\"base_link\"), \n",
    "        #     RigidTransform(RollPitchYaw(0, -np.pi/2, 0), [0, 0, 0.25]))\n",
    "\n",
    "        self.plant.gravity_field().set_gravity_vector([0., 0., -0.1])    \n",
    "\n",
    "        self.plant.Finalize()\n",
    "\n",
    "        visualizer = MeshcatVisualizerCpp.AddToBuilder(\n",
    "            builder, \n",
    "            scene_graph, \n",
    "            meshcat,\n",
    "            MeshcatVisualizerParams(delete_prefix_initialization_event=False))\n",
    "        \n",
    "            \n",
    "        # Set up controller ----------------------------------------\n",
    "        controller_plant = MultibodyPlant(time_step = 1e-2)\n",
    "        controller_iiwa = AddIiwa(controller_plant)\n",
    "        # contror_lleiiwa = AddFloatingIiwa(controller_plant)\n",
    "        # controller_base = AddFloatingBase(controller_plant, controller_iiwa)\n",
    "        controller_parser = Parser(controller_plant)\n",
    "        # controller_parser.AddModelFromFile(\"models/gripper.sdf\")\n",
    "        # controller_plant.WeldFrames(\n",
    "        #     controller_plant.GetFrameByName(\"iiwa_link_7\"),\n",
    "        #     controller_plant.GetFrameByName(\"base_link\"),\n",
    "        #     RigidTransform(RollPitchYaw(0, -np.pi/2, 0), [0, 0, 0.25]))\n",
    "        controller_plant.Finalize()\n",
    "\n",
    "        Kp = np.full(7, 10)\n",
    "        Ki = 2 * np.sqrt(Kp)\n",
    "        Kd = np.full(7, 1)\n",
    "        self.iiwa_controller = builder.AddSystem(InverseDynamicsController(controller_plant, Kp, Ki, Kd, False))\n",
    "        self.iiwa_controller.set_name(\"iiwa_controller\");\n",
    "        builder.Connect(self.plant.get_state_output_port(self.iiwa),\n",
    "                        self.iiwa_controller.get_input_port_estimated_state())\n",
    "        builder.Connect(self.iiwa_controller.get_output_port_control(),\n",
    "                        self.plant.get_actuation_input_port())\n",
    "        \n",
    "        # Build\n",
    "        self.diagram = builder.Build()\n",
    "        # context = diagram.CreateDefaultContext()\n",
    "        # diagram.Publish(context)\n",
    "        # self.gripper_frame = self.plant.GetFrameByName('body')\n",
    "        self.world_frame = self.plant.world_frame()\n",
    "        \n",
    "        context = self.CreateDefaultContext()\n",
    "        self.diagram.Publish(context)\n",
    "                \n",
    "        \n",
    "    def CreateDefaultContext(self):\n",
    "        context = self.diagram.CreateDefaultContext()\n",
    "        plant_context = self.diagram.GetMutableSubsystemContext(self.plant, context)\n",
    "\n",
    "        # Set initial positions \n",
    "        q0 = np.array([-1.57, 0.1, 0, -1.2, 0, 1.6, 0])\n",
    "        x0 = np.hstack((q0, 0*q0))\n",
    "\n",
    "        plant_context = self.plant.GetMyMutableContextFromRoot(context)\n",
    "\n",
    "        self.plant.SetPositions(plant_context, self.iiwa, q0)\n",
    "        # plant.SetPositions(plant_context, ball, np.array([1, 1, 1, 1, 1, 0, 5]))\n",
    "        self.iiwa_controller.GetInputPort('desired_state').FixValue(self.iiwa_controller.GetMyMutableContextFromRoot(context), x0)\n",
    "\n",
    "        \n",
    "        \n",
    "        \n",
    "        \n",
    "#         # provide initial states\n",
    "#         q0 = np.array([ 1.40666193e-05,  1.56461165e-01, -3.82761069e-05, \n",
    "#                        -1.32296976e+00, -6.29097287e-06,  1.61181157e+00, -2.66900985e-05])\n",
    "#         # set the joint positions of the kuka arm\n",
    "#         self.station.SetIiwaPosition(station_context, q0)\n",
    "#         self.station.SetIiwaVelocity(station_context, np.zeros(7))\n",
    "#         self.station.SetWsgPosition(station_context, 0.1)\n",
    "#         self.station.SetWsgVelocity(station_context, 0)\n",
    "\n",
    "#         if hasattr(self, 'integrator'):\n",
    "#             self.integrator.set_integral_value(\n",
    "#                 self.integrator.GetMyMutableContextFromRoot(context), \n",
    "#                 self.station.GetIiwaPosition(station_context))\n",
    "\n",
    "        return context\n",
    "    \n",
    "    def run(self):\n",
    "        context = self.CreateDefaultContext()\n",
    "        simulator = Simulator(self.diagram, context)\n",
    "        simulator.set_target_realtime_rate(0.25)\n",
    "        simulator.AdvanceTo(2.0)"
   ]
  },
  {
   "cell_type": "code",
   "execution_count": 20,
   "id": "80ef975a-5c29-419f-a851-614948ff13b0",
   "metadata": {},
   "outputs": [],
   "source": [
    "ic = IIWA_Climber()"
   ]
  },
  {
   "cell_type": "code",
   "execution_count": 22,
   "id": "c89bb3e2-d4c7-4e56-862b-0bcb3547dff6",
   "metadata": {},
   "outputs": [],
   "source": [
    "ic.run()"
   ]
  },
  {
   "cell_type": "code",
   "execution_count": null,
   "id": "0fb64722-2dc7-46d4-9544-96fd1ae510b5",
   "metadata": {},
   "outputs": [],
   "source": []
  },
  {
   "cell_type": "code",
   "execution_count": 10,
   "id": "913dd1f0-a132-40d2-addc-fcc817eb4c60",
   "metadata": {},
   "outputs": [],
   "source": [
    "# X_WF\n",
    "\n",
    "\n",
    "# AddMeshcatTriad(meshcat, \"painter/\" + name,\n",
    "#                 length=length, radius=radius, X_PT=X_WF)"
   ]
  },
  {
   "cell_type": "code",
   "execution_count": 11,
   "id": "fbc14ba1-b503-4792-856a-85d4d67fa7fb",
   "metadata": {},
   "outputs": [
    {
     "ename": "NameError",
     "evalue": "name 'diagram' is not defined",
     "output_type": "error",
     "traceback": [
      "\u001b[0;31m---------------------------------------------------------------------------\u001b[0m",
      "\u001b[0;31mNameError\u001b[0m                                 Traceback (most recent call last)",
      "\u001b[0;32m/tmp/ipykernel_50/4165037937.py\u001b[0m in \u001b[0;36m<module>\u001b[0;34m\u001b[0m\n\u001b[0;32m----> 1\u001b[0;31m \u001b[0msimulator\u001b[0m \u001b[0;34m=\u001b[0m \u001b[0mSimulator\u001b[0m\u001b[0;34m(\u001b[0m\u001b[0mdiagram\u001b[0m\u001b[0;34m,\u001b[0m \u001b[0mcontext\u001b[0m\u001b[0;34m)\u001b[0m\u001b[0;34m\u001b[0m\u001b[0;34m\u001b[0m\u001b[0m\n\u001b[0m\u001b[1;32m      2\u001b[0m \u001b[0msimulator\u001b[0m\u001b[0;34m.\u001b[0m\u001b[0mset_target_realtime_rate\u001b[0m\u001b[0;34m(\u001b[0m\u001b[0;36m0.25\u001b[0m\u001b[0;34m)\u001b[0m\u001b[0;34m\u001b[0m\u001b[0;34m\u001b[0m\u001b[0m\n\u001b[1;32m      3\u001b[0m \u001b[0msimulator\u001b[0m\u001b[0;34m.\u001b[0m\u001b[0mAdvanceTo\u001b[0m\u001b[0;34m(\u001b[0m\u001b[0;36m2.0\u001b[0m\u001b[0;34m)\u001b[0m\u001b[0;34m\u001b[0m\u001b[0;34m\u001b[0m\u001b[0m\n",
      "\u001b[0;31mNameError\u001b[0m: name 'diagram' is not defined"
     ]
    }
   ],
   "source": [
    "# simulator = Simulator(diagram, context)\n",
    "# simulator.set_target_realtime_rate(0.25)\n",
    "# simulator.AdvanceTo(2.0)"
   ]
  },
  {
   "cell_type": "code",
   "execution_count": null,
   "id": "9b479976-12b7-4caf-aab8-7154fcb398e8",
   "metadata": {},
   "outputs": [],
   "source": []
  },
  {
   "cell_type": "code",
   "execution_count": null,
   "id": "b4b93040-bab8-4610-aaa4-9d297279c951",
   "metadata": {},
   "outputs": [],
   "source": []
  }
 ],
 "metadata": {
  "kernelspec": {
   "display_name": "Python 3 (ipykernel)",
   "language": "python",
   "name": "python3"
  },
  "language_info": {
   "codemirror_mode": {
    "name": "ipython",
    "version": 3
   },
   "file_extension": ".py",
   "mimetype": "text/x-python",
   "name": "python",
   "nbconvert_exporter": "python",
   "pygments_lexer": "ipython3",
   "version": "3.8.10"
  }
 },
 "nbformat": 4,
 "nbformat_minor": 5
}
